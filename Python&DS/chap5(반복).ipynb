{
 "cells": [
  {
   "cell_type": "code",
   "execution_count": 1,
   "id": "6921d9ca-80f2-473e-9f38-bcb4326fe4c5",
   "metadata": {},
   "outputs": [
    {
     "name": "stdout",
     "output_type": "stream",
     "text": [
      "0\n",
      "1\n",
      "2\n",
      "3\n",
      "4\n",
      "5\n",
      "6\n",
      "7\n",
      "8\n",
      "9\n"
     ]
    }
   ],
   "source": [
    "for t in range(10):\n",
    "    print(t)"
   ]
  },
  {
   "cell_type": "code",
   "execution_count": 2,
   "id": "9a5b5b4b-5625-44ff-a859-78c39b6be2df",
   "metadata": {},
   "outputs": [
    {
     "name": "stdout",
     "output_type": "stream",
     "text": [
      "방문을 환영합니다!\n",
      "방문을 환영합니다!\n",
      "방문을 환영합니다!\n",
      "방문을 환영합니다!\n",
      "방문을 환영합니다!\n"
     ]
    }
   ],
   "source": [
    "for i in [1, 2, 3, 4, 5]:\n",
    "    print(\"방문을 환영합니다!\")"
   ]
  },
  {
   "cell_type": "code",
   "execution_count": 3,
   "id": "affaee15-8cbc-4fab-aa78-0507fcd644d7",
   "metadata": {},
   "outputs": [
    {
     "name": "stdout",
     "output_type": "stream",
     "text": [
      "i= H\n",
      "i= e\n",
      "i= l\n",
      "i= l\n",
      "i= o\n"
     ]
    }
   ],
   "source": [
    "for i in \"Hello\":\n",
    "    print(\"i=\",i)"
   ]
  },
  {
   "cell_type": "code",
   "execution_count": 4,
   "id": "a814c61e-916e-4b60-ad63-cf37b0cc2405",
   "metadata": {},
   "outputs": [
    {
     "name": "stdout",
     "output_type": "stream",
     "text": [
      "V\n",
      "J-Hope\n",
      "RM\n",
      "Jin\n",
      "Jimin\n",
      "Suga\n"
     ]
    }
   ],
   "source": [
    "bts = ['V', 'J-Hope', 'RM', 'Jin', 'Jimin', 'Suga']\n",
    "\n",
    "for i in range(len(bts)):\n",
    "    print(bts[i])"
   ]
  },
  {
   "cell_type": "code",
   "execution_count": 5,
   "id": "f7d0797b-75e4-477e-9a23-6fd6ae6bba59",
   "metadata": {},
   "outputs": [
    {
     "data": {
      "text/plain": [
       "[0, 1, 2, 3, 4, 5, 6, 7, 8, 9]"
      ]
     },
     "execution_count": 5,
     "metadata": {},
     "output_type": "execute_result"
    }
   ],
   "source": [
    "list(range(10))"
   ]
  },
  {
   "cell_type": "code",
   "execution_count": 6,
   "id": "fcbd3244-f08f-4521-8b62-ea9946653c51",
   "metadata": {},
   "outputs": [
    {
     "name": "stdout",
     "output_type": "stream",
     "text": [
      "1 2 3 4 5 "
     ]
    }
   ],
   "source": [
    "for i in range(1,6,1):\n",
    "    print(i, end=\" \")"
   ]
  },
  {
   "cell_type": "code",
   "execution_count": 7,
   "id": "4aa04898-f71f-4723-a047-5f8f0b72228a",
   "metadata": {},
   "outputs": [
    {
     "name": "stdout",
     "output_type": "stream",
     "text": [
      "10 9 8 7 6 5 4 3 2 1 "
     ]
    }
   ],
   "source": [
    "for i in range(10, 0, -1):\n",
    "    print(i, end=\" \")"
   ]
  },
  {
   "cell_type": "code",
   "execution_count": null,
   "id": "b7df1ef3-5a9d-4a9a-95ae-4364c6524dde",
   "metadata": {},
   "outputs": [],
   "source": [
    "n = int(input('정수를 입력하시오:'))\n",
    "nf = 1\n",
    "for i in range(1,n+1):\n",
    "    nf *= i\n",
    "\n",
    "print(n,\"!은 \",nf, \"이다.\")"
   ]
  },
  {
   "cell_type": "code",
   "execution_count": null,
   "id": "62afc404-4bfc-48f9-8c2f-25108d9be0bc",
   "metadata": {},
   "outputs": [],
   "source": [
    "pw = \"\"\n",
    "while(pw != \"pythonisfun\"):\n",
    "    pw = input(\"암호를 입력하시오: \")\n",
    "print(\"**로그인 성공**\")"
   ]
  },
  {
   "cell_type": "code",
   "execution_count": null,
   "id": "16be38e6-e137-4731-9306-96af1b987bcf",
   "metadata": {},
   "outputs": [],
   "source": [
    "count = 1\n",
    "s = 0\n",
    "while count <= 10:\n",
    "    s += count\n",
    "    count += 1\n",
    "print('합계는', s)"
   ]
  },
  {
   "cell_type": "code",
   "execution_count": null,
   "id": "1f48a33e-cc7e-4ddb-a274-fc2029da8083",
   "metadata": {},
   "outputs": [],
   "source": [
    "num = int(input('원하는 단은:'))\n",
    "i = 1\n",
    "while(i <= 9):\n",
    "    print(num, \"*\", i, \"=\",num*i)\n",
    "    i += 1"
   ]
  },
  {
   "cell_type": "code",
   "execution_count": null,
   "id": "effa0d47-8836-4b99-b04c-781cd2cfd399",
   "metadata": {},
   "outputs": [],
   "source": [
    "sum = 0\n",
    "say = 'yes'\n",
    "while(say == 'yes'):\n",
    "    sum += int(input(\"숫자를 입력하시오:\"))\n",
    "    say = input('계속?(yes/no)')\n",
    "print('합계는', sum)\n",
    "    "
   ]
  },
  {
   "cell_type": "code",
   "execution_count": null,
   "id": "ca589386-cd40-4d96-9d37-a289be641b57",
   "metadata": {},
   "outputs": [],
   "source": [
    "import random as rd\n",
    "com = rd.randint(1,100)\n",
    "count = 0\n",
    "user = 0\n",
    "print('1부터 100 사이의 숫자를 맞추시오')\n",
    "while(user != com):\n",
    "    user = int(input('숫자를 입력하시오: '))\n",
    "    count += 1\n",
    "    if user > com:\n",
    "        print('높음')\n",
    "    elif user < com:\n",
    "        print('낮음')\n",
    "print('축하합니다. 총 시도횟수 =',count)\n",
    "                                                "
   ]
  },
  {
   "cell_type": "code",
   "execution_count": 3,
   "id": "46533bd9-bf2c-48c5-8f0c-b670491315f7",
   "metadata": {},
   "outputs": [
    {
     "name": "stdin",
     "output_type": "stream",
     "text": [
      "97 + 43 = 140\n"
     ]
    },
    {
     "name": "stdout",
     "output_type": "stream",
     "text": [
      "잘했어요!\n"
     ]
    },
    {
     "name": "stdin",
     "output_type": "stream",
     "text": [
      "57 + 67 = 66\n"
     ]
    },
    {
     "name": "stdout",
     "output_type": "stream",
     "text": [
      "정답은 124 입니다. 다음번에는 잘할 수 있죠?\n"
     ]
    },
    {
     "name": "stdin",
     "output_type": "stream",
     "text": [
      "9 + 58 = 0\n"
     ]
    }
   ],
   "source": [
    "import random as rd\n",
    "num1 =0\n",
    "num2 =0\n",
    "answer = 0\n",
    "while True:\n",
    "    num1 = rd.randint(1,100)\n",
    "    num2 = rd.randint(1,100)\n",
    "    answer = int(input(f\"{num1} + {num2} =\"))\n",
    "    if answer == 0:\n",
    "        break\n",
    "    elif answer == num1 + num2:\n",
    "        print('잘했어요!')\n",
    "    else:\n",
    "        print('정답은',num1 + num2, '입니다. 다음번에는 잘할 수 있죠?')\n",
    "    "
   ]
  },
  {
   "cell_type": "code",
   "execution_count": 4,
   "id": "db3cf853-08a3-4551-aa95-26b1fe5f2b02",
   "metadata": {},
   "outputs": [
    {
     "name": "stdin",
     "output_type": "stream",
     "text": [
      "31 - 32 = -1\n"
     ]
    },
    {
     "name": "stdout",
     "output_type": "stream",
     "text": [
      "잘했어요!\n"
     ]
    },
    {
     "name": "stdin",
     "output_type": "stream",
     "text": [
      "50 - 77 = -22\n"
     ]
    },
    {
     "name": "stdout",
     "output_type": "stream",
     "text": [
      "정답은 -27 입니다. 다음번에는 잘할 수 있죠?\n"
     ]
    },
    {
     "name": "stdin",
     "output_type": "stream",
     "text": [
      "71 - 76 = 0\n"
     ]
    }
   ],
   "source": [
    "import random as rd\n",
    "num1 =0\n",
    "num2 =0\n",
    "answer = 0\n",
    "while True:\n",
    "    num1 = rd.randint(1,100)\n",
    "    num2 = rd.randint(1,100)\n",
    "    answer = int(input(f\"{num1} - {num2} =\"))\n",
    "    if answer == 0:\n",
    "        break\n",
    "    elif answer == num1 - num2:\n",
    "        print('잘했어요!')\n",
    "    else:\n",
    "        print('정답은',num1 - num2, '입니다. 다음번에는 잘할 수 있죠?')"
   ]
  },
  {
   "cell_type": "code",
   "execution_count": 2,
   "id": "5a42d48d-5f75-4e50-8dca-273f08060f4b",
   "metadata": {},
   "outputs": [
    {
     "name": "stdout",
     "output_type": "stream",
     "text": [
      "호밀빵 + 미트볼 + 양상추 + 허니 머스타드\n",
      "호밀빵 + 미트볼 + 양상추 + 칠리\n",
      "호밀빵 + 미트볼 + 토마토 + 허니 머스타드\n",
      "호밀빵 + 미트볼 + 토마토 + 칠리\n",
      "호밀빵 + 미트볼 + 오이 + 허니 머스타드\n",
      "호밀빵 + 미트볼 + 오이 + 칠리\n",
      "호밀빵 + 소시지 + 양상추 + 허니 머스타드\n",
      "호밀빵 + 소시지 + 양상추 + 칠리\n",
      "호밀빵 + 소시지 + 토마토 + 허니 머스타드\n",
      "호밀빵 + 소시지 + 토마토 + 칠리\n",
      "호밀빵 + 소시지 + 오이 + 허니 머스타드\n",
      "호밀빵 + 소시지 + 오이 + 칠리\n",
      "호밀빵 + 닭가슴살 + 양상추 + 허니 머스타드\n",
      "호밀빵 + 닭가슴살 + 양상추 + 칠리\n",
      "호밀빵 + 닭가슴살 + 토마토 + 허니 머스타드\n",
      "호밀빵 + 닭가슴살 + 토마토 + 칠리\n",
      "호밀빵 + 닭가슴살 + 오이 + 허니 머스타드\n",
      "호밀빵 + 닭가슴살 + 오이 + 칠리\n",
      "위트 + 미트볼 + 양상추 + 허니 머스타드\n",
      "위트 + 미트볼 + 양상추 + 칠리\n",
      "위트 + 미트볼 + 토마토 + 허니 머스타드\n",
      "위트 + 미트볼 + 토마토 + 칠리\n",
      "위트 + 미트볼 + 오이 + 허니 머스타드\n",
      "위트 + 미트볼 + 오이 + 칠리\n",
      "위트 + 소시지 + 양상추 + 허니 머스타드\n",
      "위트 + 소시지 + 양상추 + 칠리\n",
      "위트 + 소시지 + 토마토 + 허니 머스타드\n",
      "위트 + 소시지 + 토마토 + 칠리\n",
      "위트 + 소시지 + 오이 + 허니 머스타드\n",
      "위트 + 소시지 + 오이 + 칠리\n",
      "위트 + 닭가슴살 + 양상추 + 허니 머스타드\n",
      "위트 + 닭가슴살 + 양상추 + 칠리\n",
      "위트 + 닭가슴살 + 토마토 + 허니 머스타드\n",
      "위트 + 닭가슴살 + 토마토 + 칠리\n",
      "위트 + 닭가슴살 + 오이 + 허니 머스타드\n",
      "위트 + 닭가슴살 + 오이 + 칠리\n",
      "화이트 + 미트볼 + 양상추 + 허니 머스타드\n",
      "화이트 + 미트볼 + 양상추 + 칠리\n",
      "화이트 + 미트볼 + 토마토 + 허니 머스타드\n",
      "화이트 + 미트볼 + 토마토 + 칠리\n",
      "화이트 + 미트볼 + 오이 + 허니 머스타드\n",
      "화이트 + 미트볼 + 오이 + 칠리\n",
      "화이트 + 소시지 + 양상추 + 허니 머스타드\n",
      "화이트 + 소시지 + 양상추 + 칠리\n",
      "화이트 + 소시지 + 토마토 + 허니 머스타드\n",
      "화이트 + 소시지 + 토마토 + 칠리\n",
      "화이트 + 소시지 + 오이 + 허니 머스타드\n",
      "화이트 + 소시지 + 오이 + 칠리\n",
      "화이트 + 닭가슴살 + 양상추 + 허니 머스타드\n",
      "화이트 + 닭가슴살 + 양상추 + 칠리\n",
      "화이트 + 닭가슴살 + 토마토 + 허니 머스타드\n",
      "화이트 + 닭가슴살 + 토마토 + 칠리\n",
      "화이트 + 닭가슴살 + 오이 + 허니 머스타드\n",
      "화이트 + 닭가슴살 + 오이 + 칠리\n"
     ]
    }
   ],
   "source": [
    "bread = ['호밀빵', '위트', '화이트']\n",
    "meat = ['미트볼', '소시지', '닭가슴살']\n",
    "vegetable = ['양상추', '토마토', '오이']\n",
    "sauce = ['허니 머스타드', '칠리']\n",
    "\n",
    "for b in bread:\n",
    "    for m in meat:\n",
    "        for v in vegetable:\n",
    "            for s in sauce:\n",
    "                print(b, '+', m, '+', v, '+', s)"
   ]
  },
  {
   "cell_type": "code",
   "execution_count": 3,
   "id": "2ad5f172-e50a-4655-abce-01cc7eadb657",
   "metadata": {},
   "outputs": [
    {
     "name": "stdin",
     "output_type": "stream",
     "text": [
      "신호등 색상을 입력하시오:  red\n",
      "신호등 색상을 입력하시오:  rde\n",
      "신호등 색상을 입력하시오:  red\n",
      "신호등 색상을 입력하시오:  green\n"
     ]
    },
    {
     "name": "stdout",
     "output_type": "stream",
     "text": [
      "전진!!\n"
     ]
    }
   ],
   "source": [
    "while True:\n",
    "    light = input('신호등 색상을 입력하시오: ')\n",
    "    if light == 'green':\n",
    "        break\n",
    "print('전진!!')"
   ]
  },
  {
   "cell_type": "code",
   "execution_count": 8,
   "id": "2e0af46c-d261-4a66-a25f-d728ec3c5f59",
   "metadata": {},
   "outputs": [
    {
     "name": "stdin",
     "output_type": "stream",
     "text": [
      "단어를 입력하세요:  steven\n"
     ]
    },
    {
     "name": "stdout",
     "output_type": "stream",
     "text": [
      "st"
     ]
    }
   ],
   "source": [
    "word = input('단어를 입력하세요: ')\n",
    "for i in word:\n",
    "    if (i == 'a') or (i == 'e') or (i == 'i') or (i == 'o') or (i == 'u'):\n",
    "        break\n",
    "    else:\n",
    "        print(i, end = \"\")"
   ]
  },
  {
   "cell_type": "code",
   "execution_count": 9,
   "id": "5248025f-21bb-417d-986a-548d2c20059a",
   "metadata": {},
   "outputs": [
    {
     "name": "stdout",
     "output_type": "stream",
     "text": [
      " lv Pythn Prgrmmng"
     ]
    }
   ],
   "source": [
    "st = 'I love Python Programming'\n",
    "for ch in st:\n",
    "    if ch in ['a','e','i','o','u', 'A','E','I','O','U']:\n",
    "        continue\n",
    "    print(ch, end='')"
   ]
  },
  {
   "cell_type": "code",
   "execution_count": 10,
   "id": "508ba523-b697-47a1-b931-8bf32ae61144",
   "metadata": {},
   "outputs": [
    {
     "data": {
      "text/plain": [
       "'Hello python!'"
      ]
     },
     "execution_count": 10,
     "metadata": {},
     "output_type": "execute_result"
    }
   ],
   "source": [
    "'{} python!'.format('Hello')"
   ]
  },
  {
   "cell_type": "code",
   "execution_count": 11,
   "id": "cca4a28e-c148-43bf-a9cf-5a06c2bdcda8",
   "metadata": {},
   "outputs": [
    {
     "data": {
      "text/plain": [
       "'I like Python and Java'"
      ]
     },
     "execution_count": 11,
     "metadata": {},
     "output_type": "execute_result"
    }
   ],
   "source": [
    "'I like {} and {}'.format('Python', 'Java')"
   ]
  },
  {
   "cell_type": "code",
   "execution_count": 14,
   "id": "2c351308-f281-4e6f-9abe-e24cb3272a78",
   "metadata": {},
   "outputs": [
    {
     "data": {
      "text/plain": [
       "'I like Python, Python, Java'"
      ]
     },
     "execution_count": 14,
     "metadata": {},
     "output_type": "execute_result"
    }
   ],
   "source": [
    "'I like {0}, {0}, {1}'.format('Python', 'Java')"
   ]
  },
  {
   "cell_type": "code",
   "execution_count": 16,
   "id": "a6f7fc6b-9770-4930-9b94-35007b266a3a",
   "metadata": {},
   "outputs": [
    {
     "data": {
      "text/plain": [
       "'소수점 아래 두자리 정밀도 : 0.33, 세자리 정밀도 0.333'"
      ]
     },
     "execution_count": 16,
     "metadata": {},
     "output_type": "execute_result"
    }
   ],
   "source": [
    "'소수점 아래 두자리 정밀도 : {0:.2f}, 세자리 정밀도 {0:.3f}'.format(1/3)"
   ]
  },
  {
   "cell_type": "code",
   "execution_count": 17,
   "id": "19edb0f6-792e-4da2-8310-2ed91d75cdb5",
   "metadata": {},
   "outputs": [
    {
     "data": {
      "text/plain": [
       "'전체 10칸을 차지하는 실수 :      3.142,     3.1416'"
      ]
     },
     "execution_count": 17,
     "metadata": {},
     "output_type": "execute_result"
    }
   ],
   "source": [
    "'전체 10칸을 차지하는 실수 : {0:10.3f}, {0:10.4f}'.format(3.1415926)"
   ]
  },
  {
   "cell_type": "code",
   "execution_count": 18,
   "id": "9df9e827-f245-47f6-9ec5-06b1a9f50143",
   "metadata": {},
   "outputs": [
    {
     "name": "stdout",
     "output_type": "stream",
     "text": [
      "  2    4     8\n",
      "  4   16    64\n",
      "  6   36   216\n",
      "  8   64   512\n",
      " 10  100  1000\n"
     ]
    }
   ],
   "source": [
    "for i in range(2,11,2):\n",
    "    print('{0:3d} {1:4d} {2:5d}'.format(i, i*i, i*i*i))"
   ]
  },
  {
   "cell_type": "code",
   "execution_count": 20,
   "id": "09c6fdd0-2118-41a2-a7fa-3f230bd6f534",
   "metadata": {},
   "outputs": [
    {
     "name": "stdout",
     "output_type": "stream",
     "text": [
      "1에서 100까지의 수 중에서 홀수는 :\n",
      "1 3 5 7 9 11 13 15 17 19 21 23 25 27 29 31 33 35 37 39 41 43 45 47 49 51 53 55 57 59 61 63 65 67 69 71 73 75 77 79 81 83 85 87 89 91 93 95 97 99 "
     ]
    }
   ],
   "source": [
    "print('1에서 100까지의 수 중에서 홀수는 :')\n",
    "for i in range(1,101):\n",
    "    if i % 2 == 1:\n",
    "        print(i, end=' ')"
   ]
  },
  {
   "cell_type": "code",
   "execution_count": 21,
   "id": "6c83bc51-30fb-431f-97c4-08feb7d92e6e",
   "metadata": {},
   "outputs": [
    {
     "name": "stdout",
     "output_type": "stream",
     "text": [
      "1에서 100까지의 수 중에서 홀수는 :\n",
      "1 3 5 7 9 11 13 15 17 19 21 23 25 27 29 31 33 35 37 39 41 43 45 47 49 51 53 55 57 59 61 63 65 67 69 71 73 75 77 79 81 83 85 87 89 91 93 95 97 99 "
     ]
    }
   ],
   "source": [
    "print('1에서 100까지의 수 중에서 홀수는 :')\n",
    "i = 1\n",
    "while i <= 100:\n",
    "    if i % 2 == 1:\n",
    "        print(i, end=' ')\n",
    "    i += 1"
   ]
  },
  {
   "cell_type": "code",
   "execution_count": 22,
   "id": "5d6e1beb-81b4-46e3-aaa9-3afa60d512c1",
   "metadata": {},
   "outputs": [
    {
     "name": "stdout",
     "output_type": "stream",
     "text": [
      "1에서 100까지의 수 중에서 짝수는 :\n",
      "2 4 6 8 10 12 14 16 18 20 22 24 26 28 30 32 34 36 38 40 42 44 46 48 50 52 54 56 58 60 62 64 66 68 70 72 74 76 78 80 82 84 86 88 90 92 94 96 98 100 "
     ]
    }
   ],
   "source": [
    "print('1에서 100까지의 수 중에서 짝수는 :')\n",
    "for i in range(1,101):\n",
    "    if i % 2 == 0:\n",
    "        print(i, end=' ')"
   ]
  },
  {
   "cell_type": "code",
   "execution_count": 23,
   "id": "641bdf78-3988-43ba-8d09-88dc51159816",
   "metadata": {},
   "outputs": [
    {
     "name": "stdout",
     "output_type": "stream",
     "text": [
      "1에서 100까지의 수 중에서 짝수는 :\n",
      "2 4 6 8 10 12 14 16 18 20 22 24 26 28 30 32 34 36 38 40 42 44 46 48 50 52 54 56 58 60 62 64 66 68 70 72 74 76 78 80 82 84 86 88 90 92 94 96 98 100 "
     ]
    }
   ],
   "source": [
    "print('1에서 100까지의 수 중에서 짝수는 :')\n",
    "i = 1\n",
    "while i <= 100:\n",
    "    if i % 2 == 0:\n",
    "        print(i, end=' ')\n",
    "    i += 1"
   ]
  },
  {
   "cell_type": "code",
   "execution_count": 24,
   "id": "b9b07672-8eda-4a6b-ae3e-31a95d281f66",
   "metadata": {},
   "outputs": [
    {
     "name": "stdout",
     "output_type": "stream",
     "text": [
      "1에서 100까지의 수 중에서 홀수의 합 :  2500\n"
     ]
    }
   ],
   "source": [
    "sum = 0\n",
    "for i in range(1, 101):\n",
    "    if i % 2 == 1:\n",
    "        sum += i\n",
    "print ('1에서 100까지의 수 중에서 홀수의 합 : ',sum)"
   ]
  },
  {
   "cell_type": "code",
   "execution_count": 25,
   "id": "ba849e0d-311e-44c8-a26e-afbe023bcc9a",
   "metadata": {},
   "outputs": [
    {
     "name": "stdout",
     "output_type": "stream",
     "text": [
      "1에서 100까지의 수 중에서 홀수의 합 :  2500\n"
     ]
    }
   ],
   "source": [
    "sum = 0\n",
    "i =1\n",
    "while i <= 100:\n",
    "    if i % 2 == 1:\n",
    "        sum += i\n",
    "    i += 1\n",
    "print ('1에서 100까지의 수 중에서 홀수의 합 : ',sum)"
   ]
  },
  {
   "cell_type": "code",
   "execution_count": 27,
   "id": "337553fd-6179-4a0d-949f-1691e2aab393",
   "metadata": {},
   "outputs": [
    {
     "name": "stdout",
     "output_type": "stream",
     "text": [
      "1에서 100까지의 수 중에서 짝수의 합 : 2550\n"
     ]
    }
   ],
   "source": [
    "sum = 0\n",
    "for i in range(1, 101):\n",
    "    if i % 2 == 0:\n",
    "        sum += i\n",
    "print ('1에서 100까지의 수 중에서 짝수의 합 :',sum)"
   ]
  },
  {
   "cell_type": "code",
   "execution_count": 28,
   "id": "5edc7f7c-b203-4b43-87f2-2325f3dad402",
   "metadata": {},
   "outputs": [
    {
     "name": "stdout",
     "output_type": "stream",
     "text": [
      "1에서 100까지의 수 중에서 짝수의 합 : 2550\n"
     ]
    }
   ],
   "source": [
    "sum = 0\n",
    "i =1\n",
    "while i <= 100:\n",
    "    if i % 2 == 0:\n",
    "        sum += i\n",
    "    i += 1\n",
    "print ('1에서 100까지의 수 중에서 짝수의 합 :',sum)"
   ]
  },
  {
   "cell_type": "code",
   "execution_count": 29,
   "id": "b10297a4-a7f4-4286-b978-5ed790899491",
   "metadata": {},
   "outputs": [
    {
     "name": "stdin",
     "output_type": "stream",
     "text": [
      "시작 정수를 입력하세요 : 4\n",
      "끝 정수를 입력하세요 : 7\n"
     ]
    },
    {
     "name": "stdout",
     "output_type": "stream",
     "text": [
      "4 에서 7 까지 정수의 합 : 22\n"
     ]
    }
   ],
   "source": [
    "sn = int(input('시작 정수를 입력하세요 :'))\n",
    "ln = int(input('끝 정수를 입력하세요 :'))\n",
    "sum = 0\n",
    "for i in range(sn, ln + 1):\n",
    "    sum += i\n",
    "print(sn, '에서', ln, '까지 정수의 합 :',sum)"
   ]
  },
  {
   "cell_type": "code",
   "execution_count": 31,
   "id": "8bb5dd17-cb37-4802-90a1-9a5b1b8dd7e8",
   "metadata": {},
   "outputs": [
    {
     "name": "stdin",
     "output_type": "stream",
     "text": [
      "시작 정수를 입력하세요 : 2\n",
      "끝 정수를 입력하세요 : 6\n"
     ]
    },
    {
     "name": "stdout",
     "output_type": "stream",
     "text": [
      "2 에서 6 까지 정수의 합 : 20\n"
     ]
    }
   ],
   "source": [
    "sn = int(input('시작 정수를 입력하세요 :'))\n",
    "ln = int(input('끝 정수를 입력하세요 :'))\n",
    "sum = 0\n",
    "i = sn\n",
    "while i <= ln:\n",
    "    sum += i\n",
    "    i += 1\n",
    "print(sn, '에서', ln, '까지 정수의 합 :',sum)"
   ]
  },
  {
   "cell_type": "code",
   "execution_count": 34,
   "id": "49d321e7-1dff-4793-9fcc-b3f4aae831e1",
   "metadata": {},
   "outputs": [
    {
     "name": "stdout",
     "output_type": "stream",
     "text": [
      "맛나 식당에 오신 것을 환영합니다. 메뉴는 다음과 같습니다.\n",
      "1) 햄버거\n",
      "2) 치킨\n",
      "3) 피자\n"
     ]
    },
    {
     "name": "stdin",
     "output_type": "stream",
     "text": [
      "1에서 3까지의 메뉴를 선택하세요 : 6\n",
      "메뉴를 다시 입력하세요: 7\n",
      "메뉴를 다시 입력하세요: 2\n"
     ]
    },
    {
     "name": "stdout",
     "output_type": "stream",
     "text": [
      "치킨를 선택하셨습니다.\n"
     ]
    }
   ],
   "source": [
    "print('맛나 식당에 오신 것을 환영합니다. 메뉴는 다음과 같습니다.')\n",
    "print('1) 햄버거')\n",
    "print('2) 치킨')\n",
    "print('3) 피자')\n",
    "menu = int(input('1에서 3까지의 메뉴를 선택하세요 :'))\n",
    "while menu not in [1, 2, 3]:\n",
    "    menu = int(input('메뉴를 다시 입력하세요:'))\n",
    "if menu == 1:\n",
    "    print('햄버거를 선택하셨습니다.')\n",
    "elif menu == 2:\n",
    "    print('치킨를 선택하셨습니다.')\n",
    "else:\n",
    "    print('피자를 선택하셨습니다.')"
   ]
  },
  {
   "cell_type": "code",
   "execution_count": 44,
   "id": "70eeb098-c610-4943-8ec9-a471a3e5de5c",
   "metadata": {},
   "outputs": [
    {
     "name": "stdin",
     "output_type": "stream",
     "text": [
      "숫자를 입력하세요 : 6\n"
     ]
    },
    {
     "name": "stdout",
     "output_type": "stream",
     "text": [
      "     *\n",
      "    **\n",
      "   ***\n",
      "  ****\n",
      " *****\n",
      "******\n"
     ]
    }
   ],
   "source": [
    "star = int(input('숫자를 입력하세요 :'))\n",
    "for i in range(1, star + 1):\n",
    "    print('{0:>{1}}'.format('*'*i, star))"
   ]
  },
  {
   "cell_type": "code",
   "execution_count": 52,
   "id": "5a0ca8dc-394f-4d38-98c3-7ff43156663b",
   "metadata": {},
   "outputs": [
    {
     "name": "stdout",
     "output_type": "stream",
     "text": [
      "day :   1 달팽이의 위치 :   7 미터\n",
      "day :   2 달팽이의 위치 :   9 미터\n",
      "day :   3 달팽이의 위치 :  11 미터\n",
      "day :   4 달팽이의 위치 :  13 미터\n",
      "day :   5 달팽이의 위치 :  15 미터\n",
      "day :   6 달팽이의 위치 :  17 미터\n",
      "day :   7 달팽이의 위치 :  19 미터\n",
      "day :   8 달팽이의 위치 :  21 미터\n",
      "day :   9 달팽이의 위치 :  23 미터\n",
      "day :  10 달팽이의 위치 :  25 미터\n",
      "day :  11 달팽이의 위치 :  27 미터\n",
      "day :  12 달팽이의 위치 :  29 미터\n",
      "day :  13 달팽이의 위치 :  31 미터\n",
      "축하합니다. 우물을 탈출하였습니다.\n",
      "우물을 탈출하는데 걸린 날은 13 일입니다.\n"
     ]
    }
   ],
   "source": [
    "well = 30\n",
    "day = 0\n",
    "now = 0\n",
    "while now <= well:\n",
    "    if now == 0:\n",
    "        now += 7\n",
    "        \n",
    "    else:\n",
    "        now -= 5\n",
    "        now += 7\n",
    "        \n",
    "    day += 1\n",
    "    print('day : {0:3d} 달팽이의 위치 : {1:3d} 미터'.format(day, now))\n",
    "print('축하합니다. 우물을 탈출하였습니다.')\n",
    "print('우물을 탈출하는데 걸린 날은', day, '일입니다.')"
   ]
  },
  {
   "cell_type": "code",
   "execution_count": 54,
   "id": "6f8c1791-5d84-4417-9461-b997d6473a92",
   "metadata": {},
   "outputs": [
    {
     "name": "stdin",
     "output_type": "stream",
     "text": [
      "충전 또는 사용한 연료를 +/- 기호와 함께 입력하시오: +60\n"
     ]
    },
    {
     "name": "stdout",
     "output_type": "stream",
     "text": [
      "현재 탱크양은 560 입니다.\n"
     ]
    },
    {
     "name": "stdin",
     "output_type": "stream",
     "text": [
      "충전 또는 사용한 연료를 +/- 기호와 함께 입력하시오: -60\n"
     ]
    },
    {
     "name": "stdout",
     "output_type": "stream",
     "text": [
      "현재 탱크양은 500 입니다.\n"
     ]
    },
    {
     "name": "stdin",
     "output_type": "stream",
     "text": [
      "충전 또는 사용한 연료를 +/- 기호와 함께 입력하시오: -350\n"
     ]
    },
    {
     "name": "stdout",
     "output_type": "stream",
     "text": [
      "현재 탱크양은 150 입니다.\n"
     ]
    },
    {
     "name": "stdin",
     "output_type": "stream",
     "text": [
      "충전 또는 사용한 연료를 +/- 기호와 함께 입력하시오: +10\n"
     ]
    },
    {
     "name": "stdout",
     "output_type": "stream",
     "text": [
      "현재 탱크양은 160 입니다.\n"
     ]
    },
    {
     "name": "stdin",
     "output_type": "stream",
     "text": [
      "충전 또는 사용한 연료를 +/- 기호와 함께 입력하시오: -110\n"
     ]
    },
    {
     "name": "stdout",
     "output_type": "stream",
     "text": [
      "현재 탱크양은 50 입니다.\n",
      "경고 : 연료가 10% 미만이니 충전하세요!\n"
     ]
    }
   ],
   "source": [
    "gas = 500\n",
    "while(gas > 50):\n",
    "    ch = int(input('충전 또는 사용한 연료를 +/- 기호와 함께 입력하시오:'))\n",
    "    gas += ch\n",
    "    print('현재 탱크양은', gas, '입니다.')\n",
    "print('경고 : 연료가 10% 미만이니 충전하세요!')"
   ]
  },
  {
   "cell_type": "code",
   "execution_count": 60,
   "id": "551946c5-ea38-4aff-9a1a-1d6945b5f228",
   "metadata": {},
   "outputs": [
    {
     "name": "stdout",
     "output_type": "stream",
     "text": [
      "세 자리의 암스트롱 수 : [153, 370, 371, 407]\n"
     ]
    }
   ],
   "source": [
    "a_list = []\n",
    "for x in range(1,10):\n",
    "    for y in range(0,10):\n",
    "        for z in range(0,10):\n",
    "            if x * 100 + y * 10 + z == x ** 3 + y ** 3 + z ** 3:\n",
    "                a_list.append(x * 100 + y * 10 + z)\n",
    "print('세 자리의 암스트롱 수 :',a_list)\n",
    "            "
   ]
  },
  {
   "cell_type": "code",
   "execution_count": 1,
   "id": "a7f305f9-3156-4f9b-9a26-e85e4d6e20d0",
   "metadata": {},
   "outputs": [
    {
     "name": "stdin",
     "output_type": "stream",
     "text": [
      "정수를 입력하시오:  2552\n"
     ]
    },
    {
     "name": "stdout",
     "output_type": "stream",
     "text": [
      "2552 은(는) 거꾸로 정수입니다.\n"
     ]
    },
    {
     "name": "stdin",
     "output_type": "stream",
     "text": [
      "정수를 입력하시오:  4556\n"
     ]
    },
    {
     "name": "stdout",
     "output_type": "stream",
     "text": [
      "4556 은(는) 거꾸로 정수가 아닙니다.\n"
     ]
    },
    {
     "name": "stdin",
     "output_type": "stream",
     "text": [
      "정수를 입력하시오:  4554\n"
     ]
    },
    {
     "name": "stdout",
     "output_type": "stream",
     "text": [
      "4554 은(는) 거꾸로 정수입니다.\n"
     ]
    },
    {
     "name": "stdin",
     "output_type": "stream",
     "text": [
      "정수를 입력하시오:  -99\n"
     ]
    },
    {
     "name": "stdout",
     "output_type": "stream",
     "text": [
      "-99 은(는) 거꾸로 정수가 아닙니다.\n",
      "프로그램을 종료합니다.\n"
     ]
    }
   ],
   "source": [
    "num = 0\n",
    "while num != -99:\n",
    "    num = int(input('정수를 입력하시오: '))\n",
    "    if str(num) == str(num)[::-1]:\n",
    "        print(num,'은(는) 거꾸로 정수입니다.')\n",
    "    else:\n",
    "        print(num,'은(는) 거꾸로 정수가 아닙니다.')\n",
    "print('프로그램을 종료합니다.')\n"
   ]
  },
  {
   "cell_type": "code",
   "execution_count": 1,
   "id": "cb0765a7-283b-4af8-b494-c5155893e6d9",
   "metadata": {},
   "outputs": [
    {
     "name": "stdin",
     "output_type": "stream",
     "text": [
      "정수를 입력하시오: 99\n",
      "정수를 입력하시오: 98\n",
      "정수를 입력하시오: 12\n",
      "정수를 입력하시오: -78\n",
      "정수를 입력하시오: -99\n"
     ]
    },
    {
     "name": "stdout",
     "output_type": "stream",
     "text": [
      "4 개의 유효한 정수중 가장 큰 정수는 99 이고, 가장 작은 정수는 -78 입니다.\n"
     ]
    }
   ],
   "source": [
    "myList = []\n",
    "while(1):\n",
    "    num = int(input('정수를 입력하시오:'))\n",
    "    if num == -99:\n",
    "        break\n",
    "    myList.append(num)\n",
    "print(len(myList), '개의 유효한 정수중 가장 큰 정수는', max(myList), '이고, 가장 작은 정수는', min(myList), '입니다.')"
   ]
  }
 ],
 "metadata": {
  "kernelspec": {
   "display_name": "Python 3 (ipykernel)",
   "language": "python",
   "name": "python3"
  },
  "language_info": {
   "codemirror_mode": {
    "name": "ipython",
    "version": 3
   },
   "file_extension": ".py",
   "mimetype": "text/x-python",
   "name": "python",
   "nbconvert_exporter": "python",
   "pygments_lexer": "ipython3",
   "version": "3.10.13"
  }
 },
 "nbformat": 4,
 "nbformat_minor": 5
}
